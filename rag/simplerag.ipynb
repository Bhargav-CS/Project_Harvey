{
 "cells": [
  {
   "cell_type": "code",
   "execution_count": 23,
   "metadata": {},
   "outputs": [
    {
     "data": {
      "text/plain": [
       "[Document(metadata={'source': 'speech.txt'}, page_content='The world must be made safe for democracy. Its peace must be planted upon the tested foundations of political liberty. We have no selfish ends to serve. We desire no conquest, no dominion. We seek no indemnities for ourselves, no material compensation for the sacrifices we shall freely make. We are but one of the champions of the rights of mankind. We shall be satisfied when those rights have been made as secure as the faith and the freedom of nations can make them.\\n\\nJust because we fight without rancor and without selfish object, seeking nothing for ourselves but what we shall wish to share with all free peoples, we shall, I feel confident, conduct our operations as belligerents without passion and ourselves observe with proud punctilio the principles of right and of fair play we profess to be fighting for.\\n\\n…\\n\\nIt will be all the easier for us to conduct ourselves as belligerents in a high spirit of right and fairness because we act without animus, not in enmity toward a people or with the desire to bring any injury or disadvantage upon them, but only in armed opposition to an irresponsible government which has thrown aside all considerations of humanity and of right and is running amuck. We are, let me say again, the sincere friends of the German people, and shall desire nothing so much as the early reestablishment of intimate relations of mutual advantage between us—however hard it may be for them, for the time being, to believe that this is spoken from our hearts.\\n\\nWe have borne with their present government through all these bitter months because of that friendship—exercising a patience and forbearance which would otherwise have been impossible. We shall, happily, still have an opportunity to prove that friendship in our daily attitude and actions toward the millions of men and women of German birth and native sympathy who live among us and share our life, and we shall be proud to prove it toward all who are in fact loyal to their neighbors and to the government in the hour of test. They are, most of them, as true and loyal Americans as if they had never known any other fealty or allegiance. They will be prompt to stand with us in rebuking and restraining the few who may be of a different mind and purpose. If there should be disloyalty, it will be dealt with with a firm hand of stern repression; but, if it lifts its head at all, it will lift it only here and there and without countenance except from a lawless and malignant few.\\n\\nIt is a distressing and oppressive duty, gentlemen of the Congress, which I have performed in thus addressing you. There are, it may be, many months of fiery trial and sacrifice ahead of us. It is a fearful thing to lead this great peaceful people into war, into the most terrible and disastrous of all wars, civilization itself seeming to be in the balance. But the right is more precious than peace, and we shall fight for the things which we have always carried nearest our hearts—for democracy, for the right of those who submit to authority to have a voice in their own governments, for the rights and liberties of small nations, for a universal dominion of right by such a concert of free peoples as shall bring peace and safety to all nations and make the world itself at last free.\\n\\nTo such a task we can dedicate our lives and our fortunes, everything that we are and everything that we have, with the pride of those who know that the day has come when America is privileged to spend her blood and her might for the principles that gave her birth and happiness and the peace which she has treasured. God helping her, she can do no other.')]"
      ]
     },
     "execution_count": 23,
     "metadata": {},
     "output_type": "execute_result"
    }
   ],
   "source": [
    "from langchain_community.document_loaders import TextLoader\n",
    "loader = TextLoader(\"speech.txt\")\n",
    "text_documents = loader.load()\n",
    "text_documents"
   ]
  },
  {
   "cell_type": "code",
   "execution_count": 24,
   "metadata": {},
   "outputs": [
    {
     "name": "stderr",
     "output_type": "stream",
     "text": [
      "<>:2: SyntaxWarning: invalid escape sequence '\\c'\n",
      "<>:2: SyntaxWarning: invalid escape sequence '\\c'\n",
      "C:\\Users\\Bhargav\\AppData\\Local\\Temp\\ipykernel_10804\\3376224745.py:2: SyntaxWarning: invalid escape sequence '\\c'\n",
      "  loader = PyPDFLoader(\"D:\\capstone\\Project_Harvey\\downloaded_pdfs\\Article_19_in_Constitution_of_India_1218090.pdf\")\n"
     ]
    }
   ],
   "source": [
    "from langchain_community.document_loaders import PyPDFLoader\n",
    "loader = PyPDFLoader(\"D:\\capstone\\Project_Harvey\\downloaded_pdfs\\Article_19_in_Constitution_of_India_1218090.pdf\")\n",
    "docs = loader.load()"
   ]
  },
  {
   "cell_type": "code",
   "execution_count": 25,
   "metadata": {},
   "outputs": [
    {
     "data": {
      "text/plain": [
       "[Document(metadata={'source': 'D:\\\\capstone\\\\Project_Harvey\\\\downloaded_pdfs\\\\Article_19_in_Constitution_of_India_1218090.pdf', 'page': 0}, page_content='Article 19 in Constitution of India\\n19. Protection of certain rights regarding freedom of speech, etc.\\n(1)All citizens shall have the right-(a)to freedom of speech and expression;[Editorial comment\\n-The Constitution (First Amendment) Act, 1951, made several changes to the Fundamental Rights\\nPart of the Indian constitution where it amended Article 19(1)(a) of the Indian Constitution to\\ncounteract the \"abuse of freedom of speech and expression.\" This decision followed criticism in the\\npress regarding the government\\'s response to issues like the West Bengal refugee crisis and\\nextrajudicial killings in Madras. Initial attempts to censor the press were ruled unconstitutional,\\nleading the government to employ judicial decisions as justification for limiting freedom of speech.\\nDespite opposition concerns about democratic principles, the Congress government proceeded with\\nthe amendment, citing international examples of regulating speech to prevent abuse. Important\\nVerdicts: Brij Bhushan v State of Delhi, March 1950, and Romesh Thappar v State of Madras, May\\n1950. Also refer](b)to assemble peaceably and without arms;(c)to form associations or unions or\\nco-operative societies;(d)to move freely throughout the territory of India;(f)sub-clause (f) shall be\\nomitted;(e)to reside and settle in any part of the territory of India;and(g)to practise any profession,\\nor to carry on any occupation, trade or business.(2)Nothing in sub-clause (a) of clause (1) shall affect\\nthe operation of any existing law, or prevent the State from making any law, in so far as such law\\nimposes reasonable restrictions on the exercise of the right conferred by the said sub-clause in the\\ninterests ofthe sovereignty and integrity of India, the security of the State, friendly relations with\\nForeign States, public order, decency or morality or in relation to contempt of court, defamation or\\nincitement to an offence.(3)Nothing in sub-clause (b) of the said clause shall affect the operation of\\nany existing law in so far as it imposes, or prevent the State from making any law imposing, in the\\ninterests ofthe sovereignty and integrity of India or public order, reasonable restrictions on the\\nexercise of the right conferred by the said sub-clause.(4)Nothing in sub-clause (c) of the said clause\\nshall affect the operation of any existing law in so far as it imposes, or prevent the State from making\\nany law imposing, in the interests ofthe sovereignty and integrity of India or public order or\\nmorality, reasonable restrictions on the exercise of the right conferred by the said\\nsub-clause.(5)Nothing in sub-clauses (d) and (e) of the said clause shall affect the operation of any\\nexisting law in so far as it imposes, or prevents the State from making any law imposing, reasonable\\nrestrictions on the exercise of any of the rights conferred by the said sub-clauses either in the\\ninterests of the general public or for the protection of the interests of any Scheduled\\nTribe.(6)Nothing in sub-clause (g) of the said clause shall affect the operation of any existing law in\\nso far as it imposes, or prevent the State from making any law imposing, in the interests of the\\ngeneral public, reasonable restrictions on the exercise of the right conferred by the said sub-clause,\\nand, in particular, nothing in the said sub-clause shall affect the operation of any existing law in so\\nfar as it relates to, or prevent the State from making any law relating to,- [The following clause was\\nsubstituted through Constitution (First Amendment) Act, 1951][Editorial comment -The\\nConstitution (First Amendment) Act, 1951, made several changes to the Fundamental Rights Part of\\nthe Indian constitution.The privilege of Indian citizens to engage in any profession, occupation,\\ntrade, or business as granted by Article 19(1)(g) is constrained by reasonable restrictions that the\\nState laws may impose \"in the interests of the general public.\" Although the mentioned words are\\ninclusive enough to encompass any nationalization scheme, it was deemed necessary to eliminate\\nArticle 19 in Constitution of India\\nIndian Kanoon - http://indiankanoon.org/doc/1218090/ 1'),\n",
       " Document(metadata={'source': 'D:\\\\capstone\\\\Project_Harvey\\\\downloaded_pdfs\\\\Article_19_in_Constitution_of_India_1218090.pdf', 'page': 1}, page_content='ambiguity by introducing a clarifying addition to Article 19(6).Also refer](i)the professional or\\ntechnical qualifications necessary for practising any profession or carrying on any occupation, trade\\nor business, or(ii)the carrying on by the State, or by a corporation owned or controlled by the State,\\nof any trade, business, industry or service, whether to the exclusion, complete or partial, of citizens\\nor otherwise.[Editorial Comment - Article 19(1) of the Constitution of India guarantees six\\nfundamental freedoms to every citizen of India. Though all of these six Fundamental Freedoms are\\nnot absolute. They contain certain restraints and exceptions within them which are postulated in\\nArticle 19(2) to 19(6). \\nFreedom of Speech and Expression - Article 19(1)(a) grants citizens the right to freely express\\ntheir thoughts, opinions, and ideas. This includes the freedom to express oneself through speech,\\nwriting, printing, visual representations, or any other means. However, reasonable restrictions can\\nbe imposed on this right for the interests of sovereignty and integrity of India, security of the State,\\nfriendly relations with foreign nations, public order, decency or morality, contempt of court,\\ndefamation, incitement to an offense, or the sovereignty and integrity of Parliament.\\nThe first set of grounds, namely, the sovereignty and integrity of India, the security of the State,\\nfriendly relations with foreign States and public order are all grounds referable to national interest.\\nWhereas the second set of grounds, namely, decency or morality, contempt of court, defamation and\\nincitement to an offense are all concerned with the interest of the society. However it is the\\nconstitutional obligation of the judiciary to ensure that the restrictions imposed by a law on the\\nmedia are reasonable and relate to the purposes specified in Article 19(2).Because reasonable\\nrestrictions contemplated under the Indian Constitution brings the matter in the domain of the\\ncourt as the question of reasonableness is a question primarily for the Court to decide. Freedom of\\nspeech and expression is a crucial right which is recognized by Article 19(l)(a), It has been held to be\\na basic and indivisible right for a democratic polity.\\nIn Romesh Thappar v. State of Madras  ,Patanjali Shastri, C.J. observed:□Freedom of speech and of\\nthe press lay at the foundation of all democratic organizations, for without free political discussion\\nno public education, so essential for the proper functioning of the process of popular government, is\\npossible‚The expression ƒFreedom of press„ is part of the ambit of article 19 and it means the right to\\nprint and publish without any interference from the state or any other public authority. But this\\nFreedom, like other freedoms, cannot be absolute but is subject to well known exceptions\\nacknowledged in the public interests, which in India are enumerated in Article 19(2) of the\\nconstitution.\\nThus, in Prabhu Dutt v. Union of India the Supreme Court has held that the right to know news and\\ninformation regarding administration of the Government is included in the freedom of press. But\\nthis right is not absolute and restrictions can be imposed on it in the interest of the society and the\\nindividual from which the press obtains information. They can obtain information from an\\nindividual when he voluntarily agrees to give such information.\\nIn Bennett Coleman & Co v. Union of India (1972), the Hon„ble Supreme Court held that the\\nfreedom of the press embodies the right of the people to free speech and expression. It was held that\\nArticle 19 in Constitution of India\\nIndian Kanoon - http://indiankanoon.org/doc/1218090/ 2'),\n",
       " Document(metadata={'source': 'D:\\\\capstone\\\\Project_Harvey\\\\downloaded_pdfs\\\\Article_19_in_Constitution_of_India_1218090.pdf', 'page': 2}, page_content='□Freedom of the press is both qualitative and quantitative. Freedom lies both in circulation and in\\ncontent.‚\\nIn the case of Shreya Singhal v. Union of India, 2015 Section 66A of the Information Technology Act\\nwas challenged. Under this section, there were several arrests which were made due to which a wide\\noutrage was seen in society. The petitioners said that this Article is infringing the Freedom of Speech\\nand Expression. The Supreme Court stroked down this provision saying that this provision is too\\nvague and prone to misuse.\\nIn the State of U.P. v. Raj Narain (1975), the Supreme Court observed that the right to know is\\nderived from the concept of freedom of speech. The Court further held that the people of this\\ncountry have a right to know every public act, everything that is done in a public way, by their public\\nfunctionaries.\\nRight to speak includes the right to not speak or the right to remain silent. In Bijoe Emmanuel v.\\nState of Kerala (1986), the Supreme Court upheld the right to silence of three students who were\\nexpelled from school because they refused to sing the National Anthem. The Court held that no\\nperson can be compelled to sing the National Anthem if he has genuine conscientious objections\\nbased on his religious belief. Hence, the right to speak and the right to express includes the right not\\nto express and to be silent.\\nFreedom to Assemble Peacefully - Article 19(1)(b) ensures the right to peacefully assemble and\\nhold public meetings or processions without arms. This right allows citizens to come together for\\nvarious purposes, such as protests, demonstrations, or discussions. However, reasonable\\nrestrictions can be imposed on this right in the interests of public order, sovereignty, and integrity of\\nIndia.\\nIn Himmat Lal v. Police Commissioner, Bombay (1972), the Supreme Court struck down a rule that\\nempowered the police commissioner to impose a total ban on all public meetings and processions. It\\nwas held that the state could only make regulations in aid of the right of assembly of citizens and\\ncould impose reasonable restrictions in the interest of public order but no rule could be prescribed\\nprohibiting all meetings or processions altogether.\\nFreedom to Form Associations or Unions - Article 19(1)(c) guarantees the right to form\\nassociations or unions. Citizens have the freedom to form social, cultural, economic, or political\\nassociations or unions. This right allows individuals to collectively pursue common goals or\\ninterests. However, reasonable restrictions can be imposed on this right in the interests of public\\norder, morality, or the sovereignty and integrity of India.\\nIn Damyanti v. Union of India (1971), the Supreme Court upheld the right of the members of an\\nassociation to continue the association with its composition as voluntarily agreed upon by the\\npersons forming the association.\\nFreedom to Move Freely - Article 19(1)(d) ensures the right to move freely throughout the\\nArticle 19 in Constitution of India\\nIndian Kanoon - http://indiankanoon.org/doc/1218090/ 3'),\n",
       " Document(metadata={'source': 'D:\\\\capstone\\\\Project_Harvey\\\\downloaded_pdfs\\\\Article_19_in_Constitution_of_India_1218090.pdf', 'page': 3}, page_content='territory of India. Citizens have the liberty to move within the country, reside in any part of India,\\nand settle in any place of their choice. However, reasonable restrictions can be imposed on this right\\nin the interests of public order, security of the State, or the sovereignty and integrity of India.\\nIn Chambara soy v. Union of India (2007), some persons had blocked a road due to which the\\npetitioner was delayed in taking his ailing son to the hospital and his son died on arrival at the\\nhospital. The Supreme Court held that the right of the petitioner to move freely under Article\\n19(1)(d) has been violated due to the road blockage. The Court held that the State is liable to pay the\\ncompensation for the death of the petitioner„s son due to the inaction on the part of the State\\nauthorities in removing the aforesaid blockage.\\nFreedom to Reside and Settle - Article 19(1)(e) guarantees the right to reside and settle in any\\npart of India. Citizens have the freedom to choose their place of residence and settle anywhere\\nwithin the country. However, reasonable restrictions can be imposed on this right in the interests of\\npublic order, protection of scheduled tribes, or the sovereignty and integrity of India.\\nIn the case of U.P. Avas Evam Vikas Parishad v. Friends Co-op. Housing Society Ltd.(1995), it was\\nheld by the Supreme Court that the right to residence under Article 19(1)(e) includes the right to\\nshelter and to construct houses for that purpose.\\nFreedom to Practice Profession, Occupation, Trade, or Business - Article 19(1)(g)\\nprovides the right to practice any profession, occupation, trade, or business. Citizens have the\\nfreedom to choose and engage in their preferred livelihoods. However, reasonable restrictions can\\nbe imposed on this right in the interests of the general public, professional qualifications, or the\\nsovereignty and integrity of India.\\nIn the landmark judgment, Chindamanrao v. State of M.P. (AIR 1951), the Central Provinces\\nimposed a ban on the making of Bidis during the Agricultural Seasons. The manufacturing of Bidis\\nused to work as an additional income for the women of the local area. So the act by the government\\nof the Central province was challenged in the Supreme Court. Court decided that the act made by\\nthe government is arbitrary and does not fall under the reasonable restrictions.\\nThe Hon„ble Supreme Court inVishaka v. State of Rajasthan (1997) has observed that the sexual\\nharassment of working women in workplaces violates the fundamental right under Article 19(1)(g).\\nIn this case, comprehensive guidelines and binding directions were issued by the court to prevent\\nthe incidents of sexual harassment of women at workplaces in both public and private\\nsectors.]ReferencesIndianKanoonConstitutionofIndia.netBlog Ipleaders Legal Service\\nIndia Wikipedia[Editorial comment-The Constitution (Sixteenth Amendment) Act, 1963, it\\namended the Clauses (2), (3), and (4) of Article 19. This was done to enable the state to make laws\\nthat, in the interests of the sovereignty and integrity of India, place reasonable restrictions on the\\nenjoyment of the rights conferred by sub-clauses (a), (b), and (c) of clause 1 of the\\narticle.][Editorial comment-The Constitution (Ninety-seventh Amendment) Act, 2011,was\\nproposed to overcome the difficulties faced by Cooperative societies and improve their performance\\nand status in the country. The extensive establishment of cooperatives was envisioned as one of the\\nArticle 19 in Constitution of India\\nIndian Kanoon - http://indiankanoon.org/doc/1218090/ 4'),\n",
       " Document(metadata={'source': 'D:\\\\capstone\\\\Project_Harvey\\\\downloaded_pdfs\\\\Article_19_in_Constitution_of_India_1218090.pdf', 'page': 4}, page_content='attempts to achieve social and economic justice and the equitable distribution of the advantages of\\nprogress. According to this Amendment, these societies are given constitutional status and are\\nlegally protected while also maintaining their autonomous or democratic functioning. The\\nConstitution was amended to require that the states guarantee the autonomy of cooperatives, and as\\na result, state governments are now required to support the voluntary formation, autonomous\\ndecision-making, democratic control, and operation of cooperatives. The Act witnessed many\\nchanges such as modification in Part III of Article 19(1)(c) with the insertion of the words □or\\nco-operative societies‚, and the addition of Article 43B (working towards enhancing the\\nco-Operative Societies„ Voluntary formation, independent operation, and professional management)\\nand Part IX B to the Indian Constitution. However, the 97th Amendment faced challenges in the\\nHigh Court of Gujarat as the Parliament didn„t ask for approval from the state legislatures before\\npassing the bill. The ratification/approval is necessary for matters concerning states and since the\\ncooperative societies are a part of the state legislature, ratification was required. On July 20, 2021,\\nthe Supreme Court of India declared the 97th Amendment Act Unconstitutional. According to the\\nSupreme Court ratification from states was necessary to pass the amendment which didn„t take\\nplace. The Supreme Court also said that the responsibility of Multistate Co-Operative societies is of\\nthe Centre while that of the State co-operative societies is of the state. As of the current scenario,\\nparts of the 97th Amendment on cooperatives are struck down.Also Refer][Editorial\\ncomment-The Constitution (Forty-Fourth Amendment) Act, 1978, repealed Article 19 (1) (f) and\\nalso took out Article 31(1) has been taken out of Part III and made a separate Article 300A in\\nChapter IV of Part XII. This amendment may have taken away the scope of speedy remedy under\\nArticle 32 for the violation of Right to Property because it is no more a Fundamental Right. Making\\nit a legal right under the Constitution serves two purposes: Firstly, it gives emphasis to the value of\\nsocialism included in the preamble and secondly, in doing so, it conformed to the doctrine of basic\\nstructure of the Constitution. Also Refer]\\nArticle 19 in Constitution of India\\nIndian Kanoon - http://indiankanoon.org/doc/1218090/ 5')]"
      ]
     },
     "execution_count": 25,
     "metadata": {},
     "output_type": "execute_result"
    }
   ],
   "source": [
    "docs"
   ]
  },
  {
   "cell_type": "code",
   "execution_count": 26,
   "metadata": {},
   "outputs": [
    {
     "data": {
      "text/plain": [
       "[Document(metadata={'source': 'D:\\\\capstone\\\\Project_Harvey\\\\downloaded_pdfs\\\\Article_19_in_Constitution_of_India_1218090.pdf', 'page': 0}, page_content='Article 19 in Constitution of India\\n19. Protection of certain rights regarding freedom of speech, etc.\\n(1)All citizens shall have the right-(a)to freedom of speech and expression;[Editorial comment\\n-The Constitution (First Amendment) Act, 1951, made several changes to the Fundamental Rights\\nPart of the Indian constitution where it amended Article 19(1)(a) of the Indian Constitution to\\ncounteract the \"abuse of freedom of speech and expression.\" This decision followed criticism in the\\npress regarding the government\\'s response to issues like the West Bengal refugee crisis and\\nextrajudicial killings in Madras. Initial attempts to censor the press were ruled unconstitutional,\\nleading the government to employ judicial decisions as justification for limiting freedom of speech.\\nDespite opposition concerns about democratic principles, the Congress government proceeded with\\nthe amendment, citing international examples of regulating speech to prevent abuse. Important'),\n",
       " Document(metadata={'source': 'D:\\\\capstone\\\\Project_Harvey\\\\downloaded_pdfs\\\\Article_19_in_Constitution_of_India_1218090.pdf', 'page': 0}, page_content='Verdicts: Brij Bhushan v State of Delhi, March 1950, and Romesh Thappar v State of Madras, May\\n1950. Also refer](b)to assemble peaceably and without arms;(c)to form associations or unions or\\nco-operative societies;(d)to move freely throughout the territory of India;(f)sub-clause (f) shall be\\nomitted;(e)to reside and settle in any part of the territory of India;and(g)to practise any profession,\\nor to carry on any occupation, trade or business.(2)Nothing in sub-clause (a) of clause (1) shall affect\\nthe operation of any existing law, or prevent the State from making any law, in so far as such law\\nimposes reasonable restrictions on the exercise of the right conferred by the said sub-clause in the\\ninterests ofthe sovereignty and integrity of India, the security of the State, friendly relations with\\nForeign States, public order, decency or morality or in relation to contempt of court, defamation or'),\n",
       " Document(metadata={'source': 'D:\\\\capstone\\\\Project_Harvey\\\\downloaded_pdfs\\\\Article_19_in_Constitution_of_India_1218090.pdf', 'page': 0}, page_content='incitement to an offence.(3)Nothing in sub-clause (b) of the said clause shall affect the operation of\\nany existing law in so far as it imposes, or prevent the State from making any law imposing, in the\\ninterests ofthe sovereignty and integrity of India or public order, reasonable restrictions on the\\nexercise of the right conferred by the said sub-clause.(4)Nothing in sub-clause (c) of the said clause\\nshall affect the operation of any existing law in so far as it imposes, or prevent the State from making\\nany law imposing, in the interests ofthe sovereignty and integrity of India or public order or\\nmorality, reasonable restrictions on the exercise of the right conferred by the said\\nsub-clause.(5)Nothing in sub-clauses (d) and (e) of the said clause shall affect the operation of any\\nexisting law in so far as it imposes, or prevents the State from making any law imposing, reasonable\\nrestrictions on the exercise of any of the rights conferred by the said sub-clauses either in the'),\n",
       " Document(metadata={'source': 'D:\\\\capstone\\\\Project_Harvey\\\\downloaded_pdfs\\\\Article_19_in_Constitution_of_India_1218090.pdf', 'page': 0}, page_content='interests of the general public or for the protection of the interests of any Scheduled\\nTribe.(6)Nothing in sub-clause (g) of the said clause shall affect the operation of any existing law in\\nso far as it imposes, or prevent the State from making any law imposing, in the interests of the\\ngeneral public, reasonable restrictions on the exercise of the right conferred by the said sub-clause,\\nand, in particular, nothing in the said sub-clause shall affect the operation of any existing law in so\\nfar as it relates to, or prevent the State from making any law relating to,- [The following clause was\\nsubstituted through Constitution (First Amendment) Act, 1951][Editorial comment -The\\nConstitution (First Amendment) Act, 1951, made several changes to the Fundamental Rights Part of\\nthe Indian constitution.The privilege of Indian citizens to engage in any profession, occupation,\\ntrade, or business as granted by Article 19(1)(g) is constrained by reasonable restrictions that the'),\n",
       " Document(metadata={'source': 'D:\\\\capstone\\\\Project_Harvey\\\\downloaded_pdfs\\\\Article_19_in_Constitution_of_India_1218090.pdf', 'page': 0}, page_content='State laws may impose \"in the interests of the general public.\" Although the mentioned words are\\ninclusive enough to encompass any nationalization scheme, it was deemed necessary to eliminate\\nArticle 19 in Constitution of India\\nIndian Kanoon - http://indiankanoon.org/doc/1218090/ 1')]"
      ]
     },
     "execution_count": 26,
     "metadata": {},
     "output_type": "execute_result"
    }
   ],
   "source": [
    "from langchain.text_splitter import RecursiveCharacterTextSplitter\n",
    "text_splitter = RecursiveCharacterTextSplitter(chunk_size=1000, chunk_overlap=20)\n",
    "documents = text_splitter.split_documents(docs)\n",
    "documents[:5]"
   ]
  },
  {
   "cell_type": "code",
   "execution_count": 27,
   "metadata": {},
   "outputs": [],
   "source": [
    "from langchain_community.embeddings import OllamaEmbeddings\n",
    "from langchain_community.vectorstores import FAISS\n",
    "# db = FAISS.from_documents(documents, OllamaEmbeddings(model=\"llama3.1\"))"
   ]
  },
  {
   "cell_type": "code",
   "execution_count": 28,
   "metadata": {},
   "outputs": [],
   "source": [
    "from langchain_community.embeddings import OllamaEmbeddings\n",
    "\n",
    "#use chromaDB \n",
    "from langchain_community.vectorstores import Chroma\n",
    "db = Chroma.from_documents(documents, OllamaEmbeddings(model=\"llama3.1\"))\n"
   ]
  },
  {
   "cell_type": "code",
   "execution_count": 29,
   "metadata": {},
   "outputs": [],
   "source": [
    "# query = \"what is the attention mechanism?\"\n",
    "# result = db.similarity_search(query)\n",
    "# result"
   ]
  },
  {
   "cell_type": "code",
   "execution_count": 30,
   "metadata": {},
   "outputs": [
    {
     "data": {
      "text/plain": [
       "Ollama(model='llama3.1')"
      ]
     },
     "execution_count": 30,
     "metadata": {},
     "output_type": "execute_result"
    }
   ],
   "source": [
    "from langchain_community.llms import Ollama\n",
    "llm = Ollama(model=\"llama3.1\")\n",
    "llm"
   ]
  },
  {
   "cell_type": "code",
   "execution_count": 31,
   "metadata": {},
   "outputs": [],
   "source": [
    "from langchain_core.prompts import ChatPromptTemplate\n",
    "# prompt = ChatPromptTemplate.from_template(\"\"\"\n",
    "#             Answer the following question based only on the provided text context.\n",
    "#             Think step by step before providing a detailed answer.\n",
    "#             I will tip you $1000 if the user finds the answer helpful.\n",
    "#             <context>\n",
    "#             {context}\n",
    "#             </context>\n",
    "#             Question : {input}\"\"\")\n",
    "\n",
    "prompt = ChatPromptTemplate.from_template(\"\"\"\n",
    "            Role: Advanced Legal AI Assistant\n",
    "\n",
    "Core Objective:\n",
    "Provide precise, contextually-grounded legal guidance by systematically analyzing user queries through comprehensive research and strategic reasoning.\n",
    "\n",
    "Input Processing Framework:\n",
    "1. Query Analysis\n",
    "- Deconstruct user's legal query\n",
    "- Identify core legal issue(s)\n",
    "- Determine applicable jurisdictional context\n",
    "\n",
    "2. Research Strategy\n",
    "- Utilize provided legal document corpus\n",
    "- Cross-reference with historical case law\n",
    "- Assess relevance and precedential weight\n",
    "\n",
    "Response Structure:\n",
    "A. Preliminary Assessment\n",
    "- Concise overview of legal query\n",
    "- Preliminary legal perspective\n",
    "- Potential complexity indicators\n",
    "\n",
    "B. Precedential Analysis\n",
    "- Maximum 3 most relevant historical cases\n",
    "- Key judgment details\n",
    "- Direct correlation to current query\n",
    "- Precise year and jurisdiction of cases\n",
    "\n",
    "C. Legal Reasoning\n",
    "- Synthesize research findings\n",
    "- Identify potential legal interpretations\n",
    "- Highlight critical legal principles\n",
    "\n",
    "D. Conclusion\n",
    "- Summarized legal recommendation\n",
    "- Probabilistic assessment of potential outcomes\n",
    "- Clear, actionable insights\n",
    "\n",
    "Operational Constraints:\n",
    "- Maintain strict objectivity\n",
    "- Prioritize factual accuracy\n",
    "- Clearly differentiate between definitive guidance and probabilistic assessment\n",
    "- Include mandatory legal disclaimer about AI-generated advice limitations\n",
    "{context}\n",
    "\n",
    "Disclaimer: AI-generated insights do not constitute professional legal advice. Consultation with licensed legal professionals is recommended.\n",
    "\n",
    "Question : {input}\n",
    "\n",
    "\"\"\"\n",
    ")"
   ]
  },
  {
   "cell_type": "code",
   "execution_count": 32,
   "metadata": {},
   "outputs": [],
   "source": [
    "from langchain.chains.combine_documents import create_stuff_documents_chain\n",
    "document_chain = create_stuff_documents_chain(llm, prompt)"
   ]
  },
  {
   "cell_type": "code",
   "execution_count": 33,
   "metadata": {},
   "outputs": [
    {
     "data": {
      "text/plain": [
       "VectorStoreRetriever(tags=['Chroma', 'OllamaEmbeddings'], vectorstore=<langchain_community.vectorstores.chroma.Chroma object at 0x0000010CC2547250>, search_kwargs={})"
      ]
     },
     "execution_count": 33,
     "metadata": {},
     "output_type": "execute_result"
    }
   ],
   "source": [
    "retriever = db.as_retriever()\n",
    "retriever"
   ]
  },
  {
   "cell_type": "code",
   "execution_count": 37,
   "metadata": {},
   "outputs": [],
   "source": [
    "from langchain.chains import create_retrieval_chain\n",
    "retrieval_chain = create_retrieval_chain(retriever, document_chain)"
   ]
  },
  {
   "cell_type": "code",
   "execution_count": 40,
   "metadata": {},
   "outputs": [],
   "source": [
    "\n",
    "response=retrieval_chain.invoke({\"input\": \"What is Article 19(1)(d)\"})"
   ]
  },
  {
   "cell_type": "code",
   "execution_count": 41,
   "metadata": {},
   "outputs": [
    {
     "data": {
      "text/plain": [
       "'Based on the provided framework, here\\'s the response:\\n\\n**A. Preliminary Assessment**\\n\\n* Legal Query: Identifying Article 19(1)(d) in the Constitution of India\\n* Preliminary Legal Perspective: Article 19(1)(d) pertains to the fundamental right to freedom of movement.\\n* Potential Complexity Indicators: None\\n\\n**B. Precedential Analysis**\\n\\n* Most Relevant Historical Case: N/A (since this is a query-based response, there isn\\'t a direct case law correlation)\\n* Key Judgment Details: Article 19(1)(d) ensures the \"right to move freely throughout the territory of India\" ( emphasis on key aspect)\\n* Direct Correlation to Current Query: This article directly relates to the freedom of movement within India.\\n* Precise Year and Jurisdiction of Cases: N/A\\n\\n**C. Legal Reasoning**\\n\\n* Synthesis of Research Findings: Article 19(1)(d) grants citizens the right to move freely throughout India, without any restrictions unless they are necessary in a democratic country or in public interest.\\n* Potential Legal Interpretations: The freedom to move freely is an essential aspect of human rights and is crucial for economic, social, and cultural development.\\n* Critical Legal Principles: This right can be restricted only on the grounds of national security, public order, and other similar reasons.\\n\\n**D. Conclusion**\\n\\n* Summarized Legal Recommendation: Article 19(1)(d) ensures the fundamental right to freedom of movement throughout India.\\n* Probabilistic Assessment of Potential Outcomes: The exercise of this right is essential for the economic and social development of citizens.\\n* Clear, Actionable Insights: This right can be restricted only in exceptional circumstances.\\n\\n**Disclaimer**: AI-generated insights do not constitute professional legal advice. Consultation with licensed legal professionals is recommended.'"
      ]
     },
     "execution_count": 41,
     "metadata": {},
     "output_type": "execute_result"
    }
   ],
   "source": [
    "response['answer']"
   ]
  }
 ],
 "metadata": {
  "kernelspec": {
   "display_name": "tf",
   "language": "python",
   "name": "python3"
  },
  "language_info": {
   "codemirror_mode": {
    "name": "ipython",
    "version": 3
   },
   "file_extension": ".py",
   "mimetype": "text/x-python",
   "name": "python",
   "nbconvert_exporter": "python",
   "pygments_lexer": "ipython3",
   "version": "3.13.0"
  }
 },
 "nbformat": 4,
 "nbformat_minor": 2
}
